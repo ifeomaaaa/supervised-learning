{
  "nbformat": 4,
  "nbformat_minor": 0,
  "metadata": {
    "colab": {
      "provenance": [],
      "authorship_tag": "ABX9TyMj0M6MxXdLdzBfWTW4TC8i"
    },
    "kernelspec": {
      "name": "python3",
      "display_name": "Python 3"
    },
    "language_info": {
      "name": "python"
    }
  },
  "cells": [
    {
      "cell_type": "code",
      "execution_count": 27,
      "metadata": {
        "id": "YWAgUPp_GO_H"
      },
      "outputs": [],
      "source": [
        "#using titanic machine learning from disaster to predict items I'll save in case of a house fire\n",
        "\n",
        "import matplotlib.pyplot as plt\n",
        "%matplotlib inline\n",
        "import random\n",
        "import numpy as np\n",
        "import pandas as pd\n",
        "import sklearn.ensemble as ske\n",
        "import tensorflow as tf"
      ]
    },
    {
      "cell_type": "code",
      "source": [
        "wardrobe_df = pd.read_csv(\"wardrobe.csv\")\n",
        "wardrobe_df.head()"
      ],
      "metadata": {
        "colab": {
          "base_uri": "https://localhost:8080/",
          "height": 250
        },
        "id": "BwbRcWRwhB1n",
        "outputId": "0b9bf09d-f199-40ea-fc25-278688dff599"
      },
      "execution_count": 28,
      "outputs": [
        {
          "output_type": "execute_result",
          "data": {
            "text/plain": [
              "            Brand Category     Type   Color  Size  YearBought  Price  \\\n",
              "0           Gucci    Shoes  Loafers   Black  39.0        2021  595.0   \n",
              "1           Gucci    Shoes  Loafers   White  39.0        2019  515.0   \n",
              "2   Saint Laurent    Shoes  Loafers    Pink  39.0        2021  645.0   \n",
              "3      LK Bennett    Shoes    Flats   Black  39.0        2018  100.0   \n",
              "4  Bottega Veneta    Shoes    Mules  Purple  39.0        2022  620.0   \n",
              "\n",
              "        Retailer  Age  Take  ByRotation Class  Brand Count  \n",
              "0       Farfetch    2     1  Investment   Mid     0.166667  \n",
              "1          Gucci    4     1  Investment   Mid     0.166667  \n",
              "2  Saint Laurent    2     0  Investment   Mid     0.500000  \n",
              "3     LK Bennett    5     0    Personal   Low     0.333333  \n",
              "4        Harrods    1     0  Investment   Mid     0.333333  "
            ],
            "text/html": [
              "\n",
              "  <div id=\"df-bee0595c-ca74-4b24-ba2e-65f37042cf73\">\n",
              "    <div class=\"colab-df-container\">\n",
              "      <div>\n",
              "<style scoped>\n",
              "    .dataframe tbody tr th:only-of-type {\n",
              "        vertical-align: middle;\n",
              "    }\n",
              "\n",
              "    .dataframe tbody tr th {\n",
              "        vertical-align: top;\n",
              "    }\n",
              "\n",
              "    .dataframe thead th {\n",
              "        text-align: right;\n",
              "    }\n",
              "</style>\n",
              "<table border=\"1\" class=\"dataframe\">\n",
              "  <thead>\n",
              "    <tr style=\"text-align: right;\">\n",
              "      <th></th>\n",
              "      <th>Brand</th>\n",
              "      <th>Category</th>\n",
              "      <th>Type</th>\n",
              "      <th>Color</th>\n",
              "      <th>Size</th>\n",
              "      <th>YearBought</th>\n",
              "      <th>Price</th>\n",
              "      <th>Retailer</th>\n",
              "      <th>Age</th>\n",
              "      <th>Take</th>\n",
              "      <th>ByRotation</th>\n",
              "      <th>Class</th>\n",
              "      <th>Brand Count</th>\n",
              "    </tr>\n",
              "  </thead>\n",
              "  <tbody>\n",
              "    <tr>\n",
              "      <th>0</th>\n",
              "      <td>Gucci</td>\n",
              "      <td>Shoes</td>\n",
              "      <td>Loafers</td>\n",
              "      <td>Black</td>\n",
              "      <td>39.0</td>\n",
              "      <td>2021</td>\n",
              "      <td>595.0</td>\n",
              "      <td>Farfetch</td>\n",
              "      <td>2</td>\n",
              "      <td>1</td>\n",
              "      <td>Investment</td>\n",
              "      <td>Mid</td>\n",
              "      <td>0.166667</td>\n",
              "    </tr>\n",
              "    <tr>\n",
              "      <th>1</th>\n",
              "      <td>Gucci</td>\n",
              "      <td>Shoes</td>\n",
              "      <td>Loafers</td>\n",
              "      <td>White</td>\n",
              "      <td>39.0</td>\n",
              "      <td>2019</td>\n",
              "      <td>515.0</td>\n",
              "      <td>Gucci</td>\n",
              "      <td>4</td>\n",
              "      <td>1</td>\n",
              "      <td>Investment</td>\n",
              "      <td>Mid</td>\n",
              "      <td>0.166667</td>\n",
              "    </tr>\n",
              "    <tr>\n",
              "      <th>2</th>\n",
              "      <td>Saint Laurent</td>\n",
              "      <td>Shoes</td>\n",
              "      <td>Loafers</td>\n",
              "      <td>Pink</td>\n",
              "      <td>39.0</td>\n",
              "      <td>2021</td>\n",
              "      <td>645.0</td>\n",
              "      <td>Saint Laurent</td>\n",
              "      <td>2</td>\n",
              "      <td>0</td>\n",
              "      <td>Investment</td>\n",
              "      <td>Mid</td>\n",
              "      <td>0.500000</td>\n",
              "    </tr>\n",
              "    <tr>\n",
              "      <th>3</th>\n",
              "      <td>LK Bennett</td>\n",
              "      <td>Shoes</td>\n",
              "      <td>Flats</td>\n",
              "      <td>Black</td>\n",
              "      <td>39.0</td>\n",
              "      <td>2018</td>\n",
              "      <td>100.0</td>\n",
              "      <td>LK Bennett</td>\n",
              "      <td>5</td>\n",
              "      <td>0</td>\n",
              "      <td>Personal</td>\n",
              "      <td>Low</td>\n",
              "      <td>0.333333</td>\n",
              "    </tr>\n",
              "    <tr>\n",
              "      <th>4</th>\n",
              "      <td>Bottega Veneta</td>\n",
              "      <td>Shoes</td>\n",
              "      <td>Mules</td>\n",
              "      <td>Purple</td>\n",
              "      <td>39.0</td>\n",
              "      <td>2022</td>\n",
              "      <td>620.0</td>\n",
              "      <td>Harrods</td>\n",
              "      <td>1</td>\n",
              "      <td>0</td>\n",
              "      <td>Investment</td>\n",
              "      <td>Mid</td>\n",
              "      <td>0.333333</td>\n",
              "    </tr>\n",
              "  </tbody>\n",
              "</table>\n",
              "</div>\n",
              "      <button class=\"colab-df-convert\" onclick=\"convertToInteractive('df-bee0595c-ca74-4b24-ba2e-65f37042cf73')\"\n",
              "              title=\"Convert this dataframe to an interactive table.\"\n",
              "              style=\"display:none;\">\n",
              "        \n",
              "  <svg xmlns=\"http://www.w3.org/2000/svg\" height=\"24px\"viewBox=\"0 0 24 24\"\n",
              "       width=\"24px\">\n",
              "    <path d=\"M0 0h24v24H0V0z\" fill=\"none\"/>\n",
              "    <path d=\"M18.56 5.44l.94 2.06.94-2.06 2.06-.94-2.06-.94-.94-2.06-.94 2.06-2.06.94zm-11 1L8.5 8.5l.94-2.06 2.06-.94-2.06-.94L8.5 2.5l-.94 2.06-2.06.94zm10 10l.94 2.06.94-2.06 2.06-.94-2.06-.94-.94-2.06-.94 2.06-2.06.94z\"/><path d=\"M17.41 7.96l-1.37-1.37c-.4-.4-.92-.59-1.43-.59-.52 0-1.04.2-1.43.59L10.3 9.45l-7.72 7.72c-.78.78-.78 2.05 0 2.83L4 21.41c.39.39.9.59 1.41.59.51 0 1.02-.2 1.41-.59l7.78-7.78 2.81-2.81c.8-.78.8-2.07 0-2.86zM5.41 20L4 18.59l7.72-7.72 1.47 1.35L5.41 20z\"/>\n",
              "  </svg>\n",
              "      </button>\n",
              "      \n",
              "  <style>\n",
              "    .colab-df-container {\n",
              "      display:flex;\n",
              "      flex-wrap:wrap;\n",
              "      gap: 12px;\n",
              "    }\n",
              "\n",
              "    .colab-df-convert {\n",
              "      background-color: #E8F0FE;\n",
              "      border: none;\n",
              "      border-radius: 50%;\n",
              "      cursor: pointer;\n",
              "      display: none;\n",
              "      fill: #1967D2;\n",
              "      height: 32px;\n",
              "      padding: 0 0 0 0;\n",
              "      width: 32px;\n",
              "    }\n",
              "\n",
              "    .colab-df-convert:hover {\n",
              "      background-color: #E2EBFA;\n",
              "      box-shadow: 0px 1px 2px rgba(60, 64, 67, 0.3), 0px 1px 3px 1px rgba(60, 64, 67, 0.15);\n",
              "      fill: #174EA6;\n",
              "    }\n",
              "\n",
              "    [theme=dark] .colab-df-convert {\n",
              "      background-color: #3B4455;\n",
              "      fill: #D2E3FC;\n",
              "    }\n",
              "\n",
              "    [theme=dark] .colab-df-convert:hover {\n",
              "      background-color: #434B5C;\n",
              "      box-shadow: 0px 1px 3px 1px rgba(0, 0, 0, 0.15);\n",
              "      filter: drop-shadow(0px 1px 2px rgba(0, 0, 0, 0.3));\n",
              "      fill: #FFFFFF;\n",
              "    }\n",
              "  </style>\n",
              "\n",
              "      <script>\n",
              "        const buttonEl =\n",
              "          document.querySelector('#df-bee0595c-ca74-4b24-ba2e-65f37042cf73 button.colab-df-convert');\n",
              "        buttonEl.style.display =\n",
              "          google.colab.kernel.accessAllowed ? 'block' : 'none';\n",
              "\n",
              "        async function convertToInteractive(key) {\n",
              "          const element = document.querySelector('#df-bee0595c-ca74-4b24-ba2e-65f37042cf73');\n",
              "          const dataTable =\n",
              "            await google.colab.kernel.invokeFunction('convertToInteractive',\n",
              "                                                     [key], {});\n",
              "          if (!dataTable) return;\n",
              "\n",
              "          const docLinkHtml = 'Like what you see? Visit the ' +\n",
              "            '<a target=\"_blank\" href=https://colab.research.google.com/notebooks/data_table.ipynb>data table notebook</a>'\n",
              "            + ' to learn more about interactive tables.';\n",
              "          element.innerHTML = '';\n",
              "          dataTable['output_type'] = 'display_data';\n",
              "          await google.colab.output.renderOutput(dataTable, element);\n",
              "          const docLink = document.createElement('div');\n",
              "          docLink.innerHTML = docLinkHtml;\n",
              "          element.appendChild(docLink);\n",
              "        }\n",
              "      </script>\n",
              "    </div>\n",
              "  </div>\n",
              "  "
            ]
          },
          "metadata": {},
          "execution_count": 28
        }
      ]
    },
    {
      "cell_type": "markdown",
      "source": [
        "- take = will I save in a house fire (0 = no; 1 = yes)\n",
        "- byrotation = can item be considered an investment or not\n",
        "- class = prices classified\n",
        "- age = how long have I had item in my closet"
      ],
      "metadata": {
        "id": "HmVFsAYVha8s"
      }
    },
    {
      "cell_type": "code",
      "source": [
        "wardrobe_df['Take'].mean()"
      ],
      "metadata": {
        "colab": {
          "base_uri": "https://localhost:8080/"
        },
        "id": "IWRPZQkOhVH_",
        "outputId": "54c1d19d-9211-4b37-9283-0f2917d229c7"
      },
      "execution_count": 29,
      "outputs": [
        {
          "output_type": "execute_result",
          "data": {
            "text/plain": [
              "0.5461538461538461"
            ]
          },
          "metadata": {},
          "execution_count": 29
        }
      ]
    },
    {
      "cell_type": "markdown",
      "source": [
        "after randomly choosing based on how much I wear item and sentimental value it seems I'll save half of my wardrobe"
      ],
      "metadata": {
        "id": "F0xvogHUiZDm"
      }
    },
    {
      "cell_type": "code",
      "source": [
        "#grouping by class stats\n",
        "w1 = wardrobe_df.groupby('Class').mean()\n",
        "w1.drop(['Size','YearBought','Brand Count'],axis=1)"
      ],
      "metadata": {
        "colab": {
          "base_uri": "https://localhost:8080/",
          "height": 175
        },
        "id": "UBtSxeroigji",
        "outputId": "b1880ae0-14a5-407d-c58d-e5d756fb4f94"
      },
      "execution_count": 31,
      "outputs": [
        {
          "output_type": "execute_result",
          "data": {
            "text/plain": [
              "             Price       Age      Take\n",
              "Class                                 \n",
              "High   1480.444444  2.222222  0.777778\n",
              "Low      70.578052  3.620253  0.430380\n",
              "Mid     401.290476  2.500000  0.714286"
            ],
            "text/html": [
              "\n",
              "  <div id=\"df-fbce89f0-0055-49b1-96d8-60500fa64c7b\">\n",
              "    <div class=\"colab-df-container\">\n",
              "      <div>\n",
              "<style scoped>\n",
              "    .dataframe tbody tr th:only-of-type {\n",
              "        vertical-align: middle;\n",
              "    }\n",
              "\n",
              "    .dataframe tbody tr th {\n",
              "        vertical-align: top;\n",
              "    }\n",
              "\n",
              "    .dataframe thead th {\n",
              "        text-align: right;\n",
              "    }\n",
              "</style>\n",
              "<table border=\"1\" class=\"dataframe\">\n",
              "  <thead>\n",
              "    <tr style=\"text-align: right;\">\n",
              "      <th></th>\n",
              "      <th>Price</th>\n",
              "      <th>Age</th>\n",
              "      <th>Take</th>\n",
              "    </tr>\n",
              "    <tr>\n",
              "      <th>Class</th>\n",
              "      <th></th>\n",
              "      <th></th>\n",
              "      <th></th>\n",
              "    </tr>\n",
              "  </thead>\n",
              "  <tbody>\n",
              "    <tr>\n",
              "      <th>High</th>\n",
              "      <td>1480.444444</td>\n",
              "      <td>2.222222</td>\n",
              "      <td>0.777778</td>\n",
              "    </tr>\n",
              "    <tr>\n",
              "      <th>Low</th>\n",
              "      <td>70.578052</td>\n",
              "      <td>3.620253</td>\n",
              "      <td>0.430380</td>\n",
              "    </tr>\n",
              "    <tr>\n",
              "      <th>Mid</th>\n",
              "      <td>401.290476</td>\n",
              "      <td>2.500000</td>\n",
              "      <td>0.714286</td>\n",
              "    </tr>\n",
              "  </tbody>\n",
              "</table>\n",
              "</div>\n",
              "      <button class=\"colab-df-convert\" onclick=\"convertToInteractive('df-fbce89f0-0055-49b1-96d8-60500fa64c7b')\"\n",
              "              title=\"Convert this dataframe to an interactive table.\"\n",
              "              style=\"display:none;\">\n",
              "        \n",
              "  <svg xmlns=\"http://www.w3.org/2000/svg\" height=\"24px\"viewBox=\"0 0 24 24\"\n",
              "       width=\"24px\">\n",
              "    <path d=\"M0 0h24v24H0V0z\" fill=\"none\"/>\n",
              "    <path d=\"M18.56 5.44l.94 2.06.94-2.06 2.06-.94-2.06-.94-.94-2.06-.94 2.06-2.06.94zm-11 1L8.5 8.5l.94-2.06 2.06-.94-2.06-.94L8.5 2.5l-.94 2.06-2.06.94zm10 10l.94 2.06.94-2.06 2.06-.94-2.06-.94-.94-2.06-.94 2.06-2.06.94z\"/><path d=\"M17.41 7.96l-1.37-1.37c-.4-.4-.92-.59-1.43-.59-.52 0-1.04.2-1.43.59L10.3 9.45l-7.72 7.72c-.78.78-.78 2.05 0 2.83L4 21.41c.39.39.9.59 1.41.59.51 0 1.02-.2 1.41-.59l7.78-7.78 2.81-2.81c.8-.78.8-2.07 0-2.86zM5.41 20L4 18.59l7.72-7.72 1.47 1.35L5.41 20z\"/>\n",
              "  </svg>\n",
              "      </button>\n",
              "      \n",
              "  <style>\n",
              "    .colab-df-container {\n",
              "      display:flex;\n",
              "      flex-wrap:wrap;\n",
              "      gap: 12px;\n",
              "    }\n",
              "\n",
              "    .colab-df-convert {\n",
              "      background-color: #E8F0FE;\n",
              "      border: none;\n",
              "      border-radius: 50%;\n",
              "      cursor: pointer;\n",
              "      display: none;\n",
              "      fill: #1967D2;\n",
              "      height: 32px;\n",
              "      padding: 0 0 0 0;\n",
              "      width: 32px;\n",
              "    }\n",
              "\n",
              "    .colab-df-convert:hover {\n",
              "      background-color: #E2EBFA;\n",
              "      box-shadow: 0px 1px 2px rgba(60, 64, 67, 0.3), 0px 1px 3px 1px rgba(60, 64, 67, 0.15);\n",
              "      fill: #174EA6;\n",
              "    }\n",
              "\n",
              "    [theme=dark] .colab-df-convert {\n",
              "      background-color: #3B4455;\n",
              "      fill: #D2E3FC;\n",
              "    }\n",
              "\n",
              "    [theme=dark] .colab-df-convert:hover {\n",
              "      background-color: #434B5C;\n",
              "      box-shadow: 0px 1px 3px 1px rgba(0, 0, 0, 0.15);\n",
              "      filter: drop-shadow(0px 1px 2px rgba(0, 0, 0, 0.3));\n",
              "      fill: #FFFFFF;\n",
              "    }\n",
              "  </style>\n",
              "\n",
              "      <script>\n",
              "        const buttonEl =\n",
              "          document.querySelector('#df-fbce89f0-0055-49b1-96d8-60500fa64c7b button.colab-df-convert');\n",
              "        buttonEl.style.display =\n",
              "          google.colab.kernel.accessAllowed ? 'block' : 'none';\n",
              "\n",
              "        async function convertToInteractive(key) {\n",
              "          const element = document.querySelector('#df-fbce89f0-0055-49b1-96d8-60500fa64c7b');\n",
              "          const dataTable =\n",
              "            await google.colab.kernel.invokeFunction('convertToInteractive',\n",
              "                                                     [key], {});\n",
              "          if (!dataTable) return;\n",
              "\n",
              "          const docLinkHtml = 'Like what you see? Visit the ' +\n",
              "            '<a target=\"_blank\" href=https://colab.research.google.com/notebooks/data_table.ipynb>data table notebook</a>'\n",
              "            + ' to learn more about interactive tables.';\n",
              "          element.innerHTML = '';\n",
              "          dataTable['output_type'] = 'display_data';\n",
              "          await google.colab.output.renderOutput(dataTable, element);\n",
              "          const docLink = document.createElement('div');\n",
              "          docLink.innerHTML = docLinkHtml;\n",
              "          element.appendChild(docLink);\n",
              "        }\n",
              "      </script>\n",
              "    </div>\n",
              "  </div>\n",
              "  "
            ]
          },
          "metadata": {},
          "execution_count": 31
        }
      ]
    },
    {
      "cell_type": "code",
      "source": [
        "#grouping by class and by rotation stats\n",
        "w2 = wardrobe_df.groupby(['Class','ByRotation']).mean()\n",
        "w2.drop(['Size','YearBought','Brand Count'],axis=1)"
      ],
      "metadata": {
        "colab": {
          "base_uri": "https://localhost:8080/",
          "height": 269
        },
        "id": "R51uEss6j7wS",
        "outputId": "81b67b9a-af85-485d-891d-46824ab6ed7e"
      },
      "execution_count": 32,
      "outputs": [
        {
          "output_type": "execute_result",
          "data": {
            "text/plain": [
              "                        Price       Age      Take\n",
              "Class ByRotation                                 \n",
              "High  Investment  1553.000000  2.000000  0.875000\n",
              "      Personal     900.000000  4.000000  0.000000\n",
              "Low   Investment   116.598000  2.400000  0.400000\n",
              "      Personal      67.382222  3.702703  0.432432\n",
              "Mid   Investment   470.739130  2.565217  0.652174\n",
              "      Personal     317.221053  2.421053  0.789474"
            ],
            "text/html": [
              "\n",
              "  <div id=\"df-851dc904-174c-4eaf-a3ea-4769da1d34d9\">\n",
              "    <div class=\"colab-df-container\">\n",
              "      <div>\n",
              "<style scoped>\n",
              "    .dataframe tbody tr th:only-of-type {\n",
              "        vertical-align: middle;\n",
              "    }\n",
              "\n",
              "    .dataframe tbody tr th {\n",
              "        vertical-align: top;\n",
              "    }\n",
              "\n",
              "    .dataframe thead th {\n",
              "        text-align: right;\n",
              "    }\n",
              "</style>\n",
              "<table border=\"1\" class=\"dataframe\">\n",
              "  <thead>\n",
              "    <tr style=\"text-align: right;\">\n",
              "      <th></th>\n",
              "      <th></th>\n",
              "      <th>Price</th>\n",
              "      <th>Age</th>\n",
              "      <th>Take</th>\n",
              "    </tr>\n",
              "    <tr>\n",
              "      <th>Class</th>\n",
              "      <th>ByRotation</th>\n",
              "      <th></th>\n",
              "      <th></th>\n",
              "      <th></th>\n",
              "    </tr>\n",
              "  </thead>\n",
              "  <tbody>\n",
              "    <tr>\n",
              "      <th rowspan=\"2\" valign=\"top\">High</th>\n",
              "      <th>Investment</th>\n",
              "      <td>1553.000000</td>\n",
              "      <td>2.000000</td>\n",
              "      <td>0.875000</td>\n",
              "    </tr>\n",
              "    <tr>\n",
              "      <th>Personal</th>\n",
              "      <td>900.000000</td>\n",
              "      <td>4.000000</td>\n",
              "      <td>0.000000</td>\n",
              "    </tr>\n",
              "    <tr>\n",
              "      <th rowspan=\"2\" valign=\"top\">Low</th>\n",
              "      <th>Investment</th>\n",
              "      <td>116.598000</td>\n",
              "      <td>2.400000</td>\n",
              "      <td>0.400000</td>\n",
              "    </tr>\n",
              "    <tr>\n",
              "      <th>Personal</th>\n",
              "      <td>67.382222</td>\n",
              "      <td>3.702703</td>\n",
              "      <td>0.432432</td>\n",
              "    </tr>\n",
              "    <tr>\n",
              "      <th rowspan=\"2\" valign=\"top\">Mid</th>\n",
              "      <th>Investment</th>\n",
              "      <td>470.739130</td>\n",
              "      <td>2.565217</td>\n",
              "      <td>0.652174</td>\n",
              "    </tr>\n",
              "    <tr>\n",
              "      <th>Personal</th>\n",
              "      <td>317.221053</td>\n",
              "      <td>2.421053</td>\n",
              "      <td>0.789474</td>\n",
              "    </tr>\n",
              "  </tbody>\n",
              "</table>\n",
              "</div>\n",
              "      <button class=\"colab-df-convert\" onclick=\"convertToInteractive('df-851dc904-174c-4eaf-a3ea-4769da1d34d9')\"\n",
              "              title=\"Convert this dataframe to an interactive table.\"\n",
              "              style=\"display:none;\">\n",
              "        \n",
              "  <svg xmlns=\"http://www.w3.org/2000/svg\" height=\"24px\"viewBox=\"0 0 24 24\"\n",
              "       width=\"24px\">\n",
              "    <path d=\"M0 0h24v24H0V0z\" fill=\"none\"/>\n",
              "    <path d=\"M18.56 5.44l.94 2.06.94-2.06 2.06-.94-2.06-.94-.94-2.06-.94 2.06-2.06.94zm-11 1L8.5 8.5l.94-2.06 2.06-.94-2.06-.94L8.5 2.5l-.94 2.06-2.06.94zm10 10l.94 2.06.94-2.06 2.06-.94-2.06-.94-.94-2.06-.94 2.06-2.06.94z\"/><path d=\"M17.41 7.96l-1.37-1.37c-.4-.4-.92-.59-1.43-.59-.52 0-1.04.2-1.43.59L10.3 9.45l-7.72 7.72c-.78.78-.78 2.05 0 2.83L4 21.41c.39.39.9.59 1.41.59.51 0 1.02-.2 1.41-.59l7.78-7.78 2.81-2.81c.8-.78.8-2.07 0-2.86zM5.41 20L4 18.59l7.72-7.72 1.47 1.35L5.41 20z\"/>\n",
              "  </svg>\n",
              "      </button>\n",
              "      \n",
              "  <style>\n",
              "    .colab-df-container {\n",
              "      display:flex;\n",
              "      flex-wrap:wrap;\n",
              "      gap: 12px;\n",
              "    }\n",
              "\n",
              "    .colab-df-convert {\n",
              "      background-color: #E8F0FE;\n",
              "      border: none;\n",
              "      border-radius: 50%;\n",
              "      cursor: pointer;\n",
              "      display: none;\n",
              "      fill: #1967D2;\n",
              "      height: 32px;\n",
              "      padding: 0 0 0 0;\n",
              "      width: 32px;\n",
              "    }\n",
              "\n",
              "    .colab-df-convert:hover {\n",
              "      background-color: #E2EBFA;\n",
              "      box-shadow: 0px 1px 2px rgba(60, 64, 67, 0.3), 0px 1px 3px 1px rgba(60, 64, 67, 0.15);\n",
              "      fill: #174EA6;\n",
              "    }\n",
              "\n",
              "    [theme=dark] .colab-df-convert {\n",
              "      background-color: #3B4455;\n",
              "      fill: #D2E3FC;\n",
              "    }\n",
              "\n",
              "    [theme=dark] .colab-df-convert:hover {\n",
              "      background-color: #434B5C;\n",
              "      box-shadow: 0px 1px 3px 1px rgba(0, 0, 0, 0.15);\n",
              "      filter: drop-shadow(0px 1px 2px rgba(0, 0, 0, 0.3));\n",
              "      fill: #FFFFFF;\n",
              "    }\n",
              "  </style>\n",
              "\n",
              "      <script>\n",
              "        const buttonEl =\n",
              "          document.querySelector('#df-851dc904-174c-4eaf-a3ea-4769da1d34d9 button.colab-df-convert');\n",
              "        buttonEl.style.display =\n",
              "          google.colab.kernel.accessAllowed ? 'block' : 'none';\n",
              "\n",
              "        async function convertToInteractive(key) {\n",
              "          const element = document.querySelector('#df-851dc904-174c-4eaf-a3ea-4769da1d34d9');\n",
              "          const dataTable =\n",
              "            await google.colab.kernel.invokeFunction('convertToInteractive',\n",
              "                                                     [key], {});\n",
              "          if (!dataTable) return;\n",
              "\n",
              "          const docLinkHtml = 'Like what you see? Visit the ' +\n",
              "            '<a target=\"_blank\" href=https://colab.research.google.com/notebooks/data_table.ipynb>data table notebook</a>'\n",
              "            + ' to learn more about interactive tables.';\n",
              "          element.innerHTML = '';\n",
              "          dataTable['output_type'] = 'display_data';\n",
              "          await google.colab.output.renderOutput(dataTable, element);\n",
              "          const docLink = document.createElement('div');\n",
              "          docLink.innerHTML = docLinkHtml;\n",
              "          element.appendChild(docLink);\n",
              "        }\n",
              "      </script>\n",
              "    </div>\n",
              "  </div>\n",
              "  "
            ]
          },
          "metadata": {},
          "execution_count": 32
        }
      ]
    },
    {
      "cell_type": "code",
      "source": [
        "w2['Take'].plot.bar()"
      ],
      "metadata": {
        "colab": {
          "base_uri": "https://localhost:8080/",
          "height": 380
        },
        "id": "fpWVk0pjkcWA",
        "outputId": "c65fc419-5555-46ac-c9e8-c006a2af7f71"
      },
      "execution_count": 33,
      "outputs": [
        {
          "output_type": "execute_result",
          "data": {
            "text/plain": [
              "<matplotlib.axes._subplots.AxesSubplot at 0x7fc1d5f069a0>"
            ]
          },
          "metadata": {},
          "execution_count": 33
        },
        {
          "output_type": "display_data",
          "data": {
            "text/plain": [
              "<Figure size 432x288 with 1 Axes>"
            ],
            "image/png": "[encoded data removed]"
          },
          "metadata": {
            "needs_background": "light"
          }
        }
      ]
    },
    {
      "cell_type": "markdown",
      "source": [
        "I'm most likely to save an item if it cost a lot and if it's considered an investement"
      ],
      "metadata": {
        "id": "fDJ-BFA7kubk"
      }
    },
    {
      "cell_type": "markdown",
      "source": [
        "# Machine Learning"
      ],
      "metadata": {
        "id": "R3hORvwuk7mR"
      }
    },
    {
      "cell_type": "code",
      "source": [
        "from sklearn import tree\n",
        "import sklearn.ensemble as ske\n",
        "import tensorflow as tf\n",
        "from sklearn.preprocessing import LabelEncoder          \n",
        "from sklearn.model_selection import train_test_split  \n",
        "from sklearn.tree import DecisionTreeClassifier\n",
        "from sklearn import preprocessing\n",
        "from sklearn.model_selection import cross_validate"
      ],
      "metadata": {
        "id": "HC0t1QCTnMkp"
      },
      "execution_count": 47,
      "outputs": []
    },
    {
      "cell_type": "code",
      "source": [
        "wardrobe_df.count()"
      ],
      "metadata": {
        "colab": {
          "base_uri": "https://localhost:8080/"
        },
        "id": "UXwpeRa7koQM",
        "outputId": "07691898-b77f-4748-f1ad-746228e70fde"
      },
      "execution_count": 35,
      "outputs": [
        {
          "output_type": "execute_result",
          "data": {
            "text/plain": [
              "Brand          130\n",
              "Category       130\n",
              "Type           130\n",
              "Color          130\n",
              "Size            93\n",
              "YearBought     130\n",
              "Price          128\n",
              "Retailer       130\n",
              "Age            130\n",
              "Take           130\n",
              "ByRotation     130\n",
              "Class          130\n",
              "Brand Count    130\n",
              "dtype: int64"
            ]
          },
          "metadata": {},
          "execution_count": 35
        }
      ]
    },
    {
      "cell_type": "code",
      "source": [
        "#dropping non-categorical columns to make machine readable\n",
        "wardrobe_df1 = wardrobe_df.drop(['Brand', 'Type', 'Color', 'Size', 'YearBought', 'Retailer', 'Brand Count'], axis=1)\n",
        "\n",
        "#dropping missing values for price since important in being saved\n",
        "wardrobe_df1 = wardrobe_df1.dropna()\n",
        "wardrobe_df1.count()"
      ],
      "metadata": {
        "colab": {
          "base_uri": "https://localhost:8080/"
        },
        "id": "A1nFvGKilGWg",
        "outputId": "52b208a7-c147-4c25-c719-a60df4363315"
      },
      "execution_count": 36,
      "outputs": [
        {
          "output_type": "execute_result",
          "data": {
            "text/plain": [
              "Category      128\n",
              "Price         128\n",
              "Age           128\n",
              "Take          128\n",
              "ByRotation    128\n",
              "Class         128\n",
              "dtype: int64"
            ]
          },
          "metadata": {},
          "execution_count": 36
        }
      ]
    },
    {
      "cell_type": "code",
      "source": [
        "def preprocess_wardrobe_df1(df):\n",
        "    processed_df = df.copy()\n",
        "    le = preprocessing.LabelEncoder()\n",
        "    processed_df.ByRotation = le.fit_transform(processed_df.ByRotation)\n",
        "    processed_df.Category = le.fit_transform(processed_df.Category)\n",
        "    processed_df.Class = le.fit_transform(processed_df.Class)\n",
        "\n",
        "    return processed_df"
      ],
      "metadata": {
        "id": "ySTYmB0pmdoW"
      },
      "execution_count": 42,
      "outputs": []
    },
    {
      "cell_type": "code",
      "source": [
        "processed_df = preprocess_wardrobe_df1(wardrobe_df1)"
      ],
      "metadata": {
        "id": "o99sU95Op6mx"
      },
      "execution_count": 43,
      "outputs": []
    },
    {
      "cell_type": "code",
      "source": [
        "X = processed_df.drop(['Take'], axis=1).values\n",
        "y = processed_df['Take'].values"
      ],
      "metadata": {
        "id": "wws2sgZcqqk0"
      },
      "execution_count": 44,
      "outputs": []
    },
    {
      "cell_type": "code",
      "source": [
        "x_train, x_test, y_train, y_test = train_test_split(X, y, test_size=0.2, random_state=65)"
      ],
      "metadata": {
        "id": "VSW82pM3rii-"
      },
      "execution_count": 50,
      "outputs": []
    },
    {
      "cell_type": "code",
      "source": [
        "dt = DecisionTreeClassifier(max_depth=3)\n",
        "dt_model = dt.fit(x_train, y_train)"
      ],
      "metadata": {
        "id": "t_dVxcIYsI9-"
      },
      "execution_count": 51,
      "outputs": []
    },
    {
      "cell_type": "code",
      "source": [
        "#decision tree\n",
        "fig = plt.figure(figsize=(12, 10))\n",
        "tree.plot_tree(dt_model, feature_names=['Category', 'Price', 'Age', 'ByRotation', 'Class'], class_names=['Taken', 'Burnt'])\n",
        "plt.show()"
      ],
      "metadata": {
        "colab": {
          "base_uri": "https://localhost:8080/",
          "height": 575
        },
        "id": "86vRsZ6_sM6Z",
        "outputId": "70603a97-c0aa-43b4-95ec-0594d92e2cd0"
      },
      "execution_count": 56,
      "outputs": [
        {
          "output_type": "display_data",
          "data": {
            "text/plain": [
              "<Figure size 864x720 with 1 Axes>"
            ],
            "image/png": "[encoded data removed]"
          },
          "metadata": {
            "needs_background": "light"
          }
        }
      ]
    },
    {
      "cell_type": "code",
      "source": [
        "print(\"Accuracy score on Testing set: \", dt_model.score(x_test, y_test))"
      ],
      "metadata": {
        "colab": {
          "base_uri": "https://localhost:8080/"
        },
        "id": "rKVpXBdwuGfo",
        "outputId": "8487a520-351e-4788-d919-bfbc4f8bc6a6"
      },
      "execution_count": 57,
      "outputs": [
        {
          "output_type": "stream",
          "name": "stdout",
          "text": [
            "Accuracy score on Testing set:  0.6538461538461539\n"
          ]
        }
      ]
    }
  ]
}